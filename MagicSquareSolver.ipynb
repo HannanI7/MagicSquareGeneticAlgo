{
  "nbformat": 4,
  "nbformat_minor": 0,
  "metadata": {
    "colab": {
      "provenance": []
    },
    "kernelspec": {
      "name": "python3",
      "display_name": "Python 3"
    },
    "language_info": {
      "name": "python"
    }
  },
  "cells": [
    {
      "cell_type": "markdown",
      "source": [
        "# Magic Square Solver with Genetic Algorithm"
      ],
      "metadata": {
        "id": "g7To38dwEjMH"
      }
    },
    {
      "cell_type": "code",
      "execution_count": null,
      "metadata": {
        "id": "hSgCrsROEhIk"
      },
      "outputs": [],
      "source": [
        "import numpy as np\n",
        "import random\n",
        "\n",
        "# Define constants\n",
        "POPULATION_SIZE = 50\n",
        "TARGET_SUM = 15\n",
        "MAX_GENERATIONS = 1000\n",
        "INITIAL_MUTATION_RATE = 0.2\n",
        "\n",
        "def create_individual():\n",
        "    \"\"\"Create a random permutation of the numbers 1 to 9.\"\"\"\n",
        "    return np.random.permutation(9) + 1\n",
        "\n",
        "def crossover(parent1, parent2):\n",
        "    \"\"\"Perform two-point crossover between two parents to produce a child.\"\"\"\n",
        "    crossover_points = sorted(random.sample(range(len(parent1)), 2))\n",
        "    child = np.hstack((parent1[:crossover_points[0]], parent2[crossover_points[0]:crossover_points[1]], parent1[crossover_points[1]:]))\n",
        "    return child\n",
        "\n",
        "def mutate(individual, mutation_rate):\n",
        "    \"\"\"Mutate an individual by randomly swapping two numbers.\"\"\"\n",
        "    for _ in range(2):  # Mutate two random positions\n",
        "        if random.random() < mutation_rate:\n",
        "            idx1, idx2 = random.sample(range(len(individual)), 2)\n",
        "            individual[idx1], individual[idx2] = individual[idx2], individual[idx1]\n",
        "    return individual\n",
        "\n",
        "def fitness(individual):\n",
        "    \"\"\"Calculate the fitness of an individual by computing the sum of rows, columns, and diagonals.\"\"\"\n",
        "    square = individual.reshape((3, 3))\n",
        "    sums = [np.sum(square, axis=0),  # Column sums\n",
        "            np.sum(square, axis=1),  # Row sums\n",
        "            [np.trace(square), np.trace(np.fliplr(square))]]  # Diagonal sums\n",
        "    # Calculate penalties for each sum\n",
        "    penalties = [np.sum(np.abs(np.array(s) - TARGET_SUM)) for s in sums]\n",
        "    total_penalty = np.sum(penalties)\n",
        "    return 1 / (1 + total_penalty)  # Fitness is inversely proportional to penalty\n",
        "\n",
        "def select_parents(population):\n",
        "    \"\"\"Select two parents based on their fitness using tournament selection.\"\"\"\n",
        "    tournament_size = 5\n",
        "    selected_parents = []\n",
        "    for _ in range(2):\n",
        "        candidates = random.sample(population, tournament_size)\n",
        "        selected_parents.append(max(candidates, key=fitness))\n",
        "    return selected_parents\n",
        "\n",
        "def genetic_algorithm():\n",
        "    \"\"\"Main genetic algorithm loop.\"\"\"\n",
        "    # Initialize population with some known patterns\n",
        "    population = [create_individual() for _ in range(POPULATION_SIZE)]\n",
        "    population.extend([\n",
        "        np.array([1, 5, 9, 3, 5, 7, 2, 5, 8]),  # A known pattern close to solution\n",
        "        np.array([9, 5, 1, 7, 5, 3, 8, 5, 2])   # Another known pattern close to solution\n",
        "    ])\n",
        "\n",
        "    mutation_rate = INITIAL_MUTATION_RATE\n",
        "\n",
        "    # Main loop\n",
        "    for generation in range(MAX_GENERATIONS):\n",
        "        # Evaluate fitness of each individual\n",
        "        fitness_scores = [fitness(individual) for individual in population]\n",
        "\n",
        "        # Check for solution\n",
        "        if 1 in fitness_scores:\n",
        "            solution_idx = fitness_scores.index(1)\n",
        "            print(\"Solution found in {} generations:\".format(generation + 1))\n",
        "            print(population[solution_idx].reshape((3, 3)))\n",
        "            return\n",
        "\n",
        "        # Select parents\n",
        "        parents = [select_parents(population) for _ in range(POPULATION_SIZE // 2)]\n",
        "\n",
        "        # Perform crossover and mutation\n",
        "        offspring = []\n",
        "        for parent1, parent2 in parents:\n",
        "            child = crossover(parent1, parent2)\n",
        "            child = mutate(child, mutation_rate)\n",
        "            offspring.append(child)\n",
        "\n",
        "        # Replace old population with offspring\n",
        "        population = offspring\n",
        "\n",
        "        # Update mutation rate\n",
        "        mutation_rate = max(0.05, mutation_rate - 0.0001)\n",
        "\n",
        "    print(\"No solution found within the maximum number of generations.\")\n",
        "\n",
        "if __name__ == \"__main__\":\n",
        "    genetic_algorithm()"
      ]
    }
  ]
}